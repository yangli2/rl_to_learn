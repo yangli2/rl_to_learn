{
  "nbformat": 4,
  "nbformat_minor": 0,
  "metadata": {
    "colab": {
      "name": "Untitled",
      "provenance": [],
      "include_colab_link": true
    },
    "kernelspec": {
      "name": "python3",
      "display_name": "Python 3"
    },
    "accelerator": "GPU"
  },
  "cells": [
    {
      "cell_type": "markdown",
      "metadata": {
        "id": "view-in-github",
        "colab_type": "text"
      },
      "source": [
        "<a href=\"https://colab.research.google.com/github/yangli2/rl_to_learn/blob/master/mnist.ipynb\" target=\"_parent\"><img src=\"https://colab.research.google.com/assets/colab-badge.svg\" alt=\"Open In Colab\"/></a>"
      ]
    },
    {
      "cell_type": "code",
      "metadata": {
        "id": "2uB4wXYec4kh",
        "colab_type": "code",
        "outputId": "1200ce8a-64fc-4556-90c6-df63906abfff",
        "colab": {
          "base_uri": "https://localhost:8080/",
          "height": 147
        }
      },
      "source": [
        "%tensorflow_version 2.x\n",
        "import tensorflow as tf\n",
        "from google.colab import drive\n",
        "import tensorflow_datasets as tfds\n",
        "\n",
        "GOOGLE_DRIVE = '/content/gdrive'\n",
        "drive.mount(GOOGLE_DRIVE)\n",
        "DRIVE_DIR = '{}/My Drive'.format(GOOGLE_DRIVE)\n",
        "MNIST_DIR = '{}/mnist_dataset'.format(DRIVE_DIR)\n",
        "MODEL_DIR  = '{}/models'.format(DRIVE_DIR)"
      ],
      "execution_count": 1,
      "outputs": [
        {
          "output_type": "stream",
          "text": [
            "TensorFlow 2.x selected.\n",
            "Go to this URL in a browser: https://accounts.google.com/o/oauth2/auth?client_id=947318989803-6bn6qk8qdgf4n4g3pfee6491hc0brc4i.apps.googleusercontent.com&redirect_uri=urn%3aietf%3awg%3aoauth%3a2.0%3aoob&response_type=code&scope=email%20https%3a%2f%2fwww.googleapis.com%2fauth%2fdocs.test%20https%3a%2f%2fwww.googleapis.com%2fauth%2fdrive%20https%3a%2f%2fwww.googleapis.com%2fauth%2fdrive.photos.readonly%20https%3a%2f%2fwww.googleapis.com%2fauth%2fpeopleapi.readonly\n",
            "\n",
            "Enter your authorization code:\n",
            "··········\n",
            "Mounted at /content/gdrive\n"
          ],
          "name": "stdout"
        }
      ]
    },
    {
      "cell_type": "code",
      "metadata": {
        "id": "5HdtRhWvVy-f",
        "colab_type": "code",
        "colab": {}
      },
      "source": [
        "mnist = tfds.image.mnist.MNIST()\n",
        "mnist.download_and_prepare(download_dir=MNIST_DIR)\n",
        "mnist_ds = mnist.as_dataset()"
      ],
      "execution_count": 0,
      "outputs": []
    },
    {
      "cell_type": "code",
      "metadata": {
        "id": "G5buhbIAV-__",
        "colab_type": "code",
        "colab": {}
      },
      "source": [
        "from tensorflow.keras.layers import Dense, Flatten, Conv2D\n",
        "from tensorflow.keras import Model\n",
        "\n",
        "class MnistModel(Model):\n",
        "  def __init__(self):\n",
        "    super(MnistModel, self).__init__()\n",
        "    self.conv1 = Conv2D(32, 3, activation='relu')\n",
        "    self.flatten = Flatten()\n",
        "    self.d1 = Dense(128, activation='relu')\n",
        "    self.d2 = Dense(10, activation='softmax')\n",
        "\n",
        "  def call(self, x):\n",
        "    x = self.conv1(x)\n",
        "    x = self.flatten(x)\n",
        "    x = self.d1(x)\n",
        "    return self.d2(x)\n",
        "\n",
        "def train_step(images, labels, loss_obj, optimizer, loss_fn,\n",
        "               accuracy_fn=None):\n",
        "  loss_fn = loss_fn if loss_fn is not None else tf.keras.metrics.Mean()\n",
        "  with tf.GradientTape() as tape:\n",
        "    predictions = model(images)\n",
        "    loss = loss_obj(labels, predictions)\n",
        "  gradients = tape.gradient(loss, model.trainable_variables)\n",
        "  optimizer.apply_gradients(zip(gradients, model.trainable_variables))\n",
        "\n",
        "  return (loss_fn(loss),\n",
        "          accuracy_fn(labels, predictions)\n",
        "          if accuracy_fn is not None else None)\n",
        "\n",
        "def test_step(images, labels, loss_obj, loss_fn, accuracy_fn=None):\n",
        "  loss_fn = loss_fn if loss_fn is not None else tf.keras.metrics.Mean()\n",
        "\n",
        "  predictions = model(images)\n",
        "  t_loss = loss_obj(labels, predictions)\n",
        "\n",
        "  return (loss_fn(t_loss),\n",
        "          accuracy_fn(labels, predictions)\n",
        "          if accuracy_fn is not None else None)\n",
        "\n",
        "def generate_model():\n",
        "  # Create an instance of the model\n",
        "  model = MnistModel()\n",
        "  optimizer = tf.keras.optimizers.Adam()\n",
        "\n",
        "  loss = tf.keras.losses.SparseCategoricalCrossentropy()\n",
        "  train_loss = tf.keras.metrics.Mean(name='training_loss')\n",
        "  train_accuracy = tf.keras.metrics.SparseCategoricalAccuracy(\n",
        "      name='train_accuracy')\n",
        "  test_loss = tf.keras.metrics.Mean(name='test_loss')\n",
        "  test_accuracy = tf.keras.metrics.SparseCategoricalAccuracy(name='test_accuracy')\n",
        "\n",
        "  return (model, optimizer, loss, train_loss, train_accuracy,\n",
        "          test_loss, test_accuracy)\n"
      ],
      "execution_count": 0,
      "outputs": []
    },
    {
      "cell_type": "code",
      "metadata": {
        "id": "JlvqsPInk1VC",
        "colab_type": "code",
        "colab": {}
      },
      "source": [
        "NUM_EPOCHS = 5\n",
        "def train_model(mnist_ds, model_filename, num_epochs=NUM_EPOCHS):\n",
        "  (model, optimizer, loss, train_loss, train_accu,\n",
        "   test_loss, test_accu) = generate_model()\n",
        "  try:\n",
        "    model.load_weights(model_filename)\n",
        "  except:\n",
        "    for epoch in range(EPOCHS):\n",
        "      for example in mnist_ds['train'].batch(32):\n",
        "        train_step(tf.cast(example['image'], tf.float32) / 255.,\n",
        "                   tf.cast(example['label'], tf.float32), loss_obj=loss,\n",
        "                   optimizer=optimizer, loss_fn=train_loss,\n",
        "                   accuracy_fn=train_accu)\n",
        "    \n",
        "      for test_example in mnist_ds['test'].batch(32):\n",
        "        test_step(tf.cast(test_example['image'], tf.float32) / 255.,\n",
        "                  tf.cast(test_example['label'], tf.float32), loss_obj=loss,\n",
        "                  loss_fn=test_loss, accuracy_fn=test_accu)\n",
        "    \n",
        "      template = 'Epoch {}, Loss: {}, Accuracy: {}, Test Loss: {}, Test Accuracy: {}'\n",
        "      print(template.format(epoch+1,\n",
        "                            train_loss.result(),\n",
        "                            train_accu.result()*100,\n",
        "                            test_loss.result(),\n",
        "                            test_accu.result()*100))\n",
        "    \n",
        "      # Reset the metrics for the next epoch\n",
        "      train_loss.reset_states()\n",
        "      train_accu.reset_states()\n",
        "      test_loss.reset_states()\n",
        "      test_accu.reset_states()\n",
        "    model.save_weights(model_filename)\n",
        "  return model  "
      ],
      "execution_count": 0,
      "outputs": []
    },
    {
      "cell_type": "code",
      "metadata": {
        "id": "xAThM1NAaq64",
        "colab_type": "code",
        "colab": {}
      },
      "source": [
        "model = train_model(mnist_ds, '{}/mnist_vanilla.mdl'.format(MODEL_DIR))"
      ],
      "execution_count": 0,
      "outputs": []
    },
    {
      "cell_type": "code",
      "metadata": {
        "id": "Wr6d2squpIek",
        "colab_type": "code",
        "colab": {}
      },
      "source": [
        ""
      ],
      "execution_count": 0,
      "outputs": []
    }
  ]
}