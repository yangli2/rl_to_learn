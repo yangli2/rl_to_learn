{
  "nbformat": 4,
  "nbformat_minor": 0,
  "metadata": {
    "colab": {
      "name": "Untitled",
      "provenance": [],
      "include_colab_link": true
    },
    "kernelspec": {
      "name": "python3",
      "display_name": "Python 3"
    },
    "accelerator": "GPU"
  },
  "cells": [
    {
      "cell_type": "markdown",
      "metadata": {
        "id": "view-in-github",
        "colab_type": "text"
      },
      "source": [
        "<a href=\"https://colab.research.google.com/github/yangli2/rl_to_learn/blob/master/mnist.ipynb\" target=\"_parent\"><img src=\"https://colab.research.google.com/assets/colab-badge.svg\" alt=\"Open In Colab\"/></a>"
      ]
    },
    {
      "cell_type": "code",
      "metadata": {
        "id": "2uB4wXYec4kh",
        "colab_type": "code",
        "outputId": "169d1090-a074-48da-e2a2-ad0223617189",
        "colab": {
          "base_uri": "https://localhost:8080/",
          "height": 35
        }
      },
      "source": [
        "%tensorflow_version 2.x\n",
        "import tensorflow as tf\n",
        "from google.colab import drive\n",
        "import tensorflow_datasets as tfds\n",
        "\n",
        "GOOGLE_DRIVE = '/content/gdrive'\n",
        "drive.mount(GOOGLE_DRIVE)\n",
        "DRIVE_DIR = '{}/My Drive'.format(GOOGLE_DRIVE)\n",
        "MNIST_DIR = '{}/mnist_dataset'.format(DRIVE_DIR)"
      ],
      "execution_count": 3,
      "outputs": [
        {
          "output_type": "stream",
          "text": [
            "Drive already mounted at /content/gdrive; to attempt to forcibly remount, call drive.mount(\"/content/gdrive\", force_remount=True).\n"
          ],
          "name": "stdout"
        }
      ]
    },
    {
      "cell_type": "code",
      "metadata": {
        "id": "5HdtRhWvVy-f",
        "colab_type": "code",
        "colab": {}
      },
      "source": [
        "mnist = tfds.image.mnist.MNIST()\n",
        "mnist.download_and_prepare(download_dir=MNIST_DIR)\n",
        "mnist_ds = mnist.as_dataset()"
      ],
      "execution_count": 0,
      "outputs": []
    },
    {
      "cell_type": "code",
      "metadata": {
        "id": "G5buhbIAV-__",
        "colab_type": "code",
        "colab": {}
      },
      "source": [
        "from tensorflow.keras.layers import Dense, Flatten, Conv2D\n",
        "from tensorflow.keras import Model\n",
        "\n",
        "class MnistModel(Model):\n",
        "  def __init__(self):\n",
        "    super(MnistModel, self).__init__()\n",
        "    self.conv1 = Conv2D(32, 3, activation='relu')\n",
        "    self.flatten = Flatten()\n",
        "    self.d1 = Dense(128, activation='relu')\n",
        "    self.d2 = Dense(10, activation='softmax')\n",
        "\n",
        "  def call(self, x):\n",
        "    x = self.conv1(x)\n",
        "    x = self.flatten(x)\n",
        "    x = self.d1(x)\n",
        "    return self.d2(x)\n",
        "\n",
        "# Create an instance of the model\n",
        "model = MnistModel()\n",
        "loss_object = tf.keras.losses.SparseCategoricalCrossentropy()\n",
        "optimizer = tf.keras.optimizers.Adam()\n",
        "\n",
        "train_loss = tf.keras.metrics.Mean(name='train_loss')\n",
        "train_accuracy = tf.keras.metrics.SparseCategoricalAccuracy(name='train_accuracy')\n",
        "\n",
        "test_loss = tf.keras.metrics.Mean(name='test_loss')\n",
        "test_accuracy = tf.keras.metrics.SparseCategoricalAccuracy(name='test_accuracy')\n",
        "\n",
        "@tf.function\n",
        "def train_step(images, labels):\n",
        "  with tf.GradientTape() as tape:\n",
        "    predictions = model(images)\n",
        "    loss = loss_object(labels, predictions)\n",
        "  gradients = tape.gradient(loss, model.trainable_variables)\n",
        "  optimizer.apply_gradients(zip(gradients, model.trainable_variables))\n",
        "\n",
        "  train_loss(loss)\n",
        "  train_accuracy(labels, predictions)\n",
        "\n",
        "@tf.function\n",
        "def test_step(images, labels):\n",
        "  predictions = model(images)\n",
        "  t_loss = loss_object(labels, predictions)\n",
        "\n",
        "  test_loss(t_loss)\n",
        "  test_accuracy(labels, predictions)"
      ],
      "execution_count": 0,
      "outputs": []
    },
    {
      "cell_type": "code",
      "metadata": {
        "id": "xAThM1NAaq64",
        "colab_type": "code",
        "colab": {
          "base_uri": "https://localhost:8080/",
          "height": 109
        },
        "outputId": "240ba902-0b3f-4471-bcf0-2f4758b45141"
      },
      "source": [
        "EPOCHS = 5\n",
        "for epoch in range(EPOCHS):\n",
        "  for example in mnist_ds['train'].batch(32):\n",
        "    train_step(tf.cast(example['image'], tf.float32) / 255.,\n",
        "                tf.cast(example['label'], tf.float32))\n",
        "\n",
        "  for test_example in mnist_ds['test'].batch(32):\n",
        "    test_step(tf.cast(test_example['image'], tf.float32) / 255.,\n",
        "              tf.cast(test_example['label'], tf.float32))\n",
        "\n",
        "  template = 'Epoch {}, Loss: {}, Accuracy: {}, Test Loss: {}, Test Accuracy: {}'\n",
        "  print(template.format(epoch+1,\n",
        "                        train_loss.result(),\n",
        "                        train_accuracy.result()*100,\n",
        "                        test_loss.result(),\n",
        "                        test_accuracy.result()*100))\n",
        "\n",
        "  # Reset the metrics for the next epoch\n",
        "  train_loss.reset_states()\n",
        "  train_accuracy.reset_states()\n",
        "  test_loss.reset_states()\n",
        "  test_accuracy.reset_states()"
      ],
      "execution_count": 7,
      "outputs": [
        {
          "output_type": "stream",
          "text": [
            "Epoch 1, Loss: 0.14121030271053314, Accuracy: 95.75833129882812, Test Loss: 0.07606296241283417, Test Accuracy: 97.53999328613281\n",
            "Epoch 2, Loss: 0.04207375645637512, Accuracy: 98.71833038330078, Test Loss: 0.06739327311515808, Test Accuracy: 97.93999481201172\n",
            "Epoch 3, Loss: 0.019686121493577957, Accuracy: 99.41166687011719, Test Loss: 0.05751356855034828, Test Accuracy: 98.33999633789062\n",
            "Epoch 4, Loss: 0.01299191266298294, Accuracy: 99.55999755859375, Test Loss: 0.05937952920794487, Test Accuracy: 98.31999969482422\n",
            "Epoch 5, Loss: 0.009138992056250572, Accuracy: 99.67666625976562, Test Loss: 0.06684920936822891, Test Accuracy: 98.4000015258789\n"
          ],
          "name": "stdout"
        }
      ]
    }
  ]
}